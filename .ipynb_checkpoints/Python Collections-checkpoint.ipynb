{
 "cells": [
  {
   "cell_type": "markdown",
   "id": "020b2a0a",
   "metadata": {},
   "source": [
    "## Python Strings\n",
    "- Write a function reverse_string that receives a string and returns it reversed"
   ]
  },
  {
   "cell_type": "code",
   "execution_count": 7,
   "id": "49c7e874",
   "metadata": {},
   "outputs": [
    {
     "data": {
      "text/plain": [
       "'olleh'"
      ]
     },
     "execution_count": 7,
     "metadata": {},
     "output_type": "execute_result"
    }
   ],
   "source": [
    "def reverse_string(a_string):\n",
    "    return a_string[::-1]\n",
    "\n",
    "reverse_string('hello')"
   ]
  },
  {
   "cell_type": "markdown",
   "id": "450332bf",
   "metadata": {},
   "source": [
    "- Use a for loops to complete the function char_in_string to check if char_to_look_for is in a_string. Do NOT use the in keyword to determine if it is in there. Return True if it is there and False if it is not."
   ]
  },
  {
   "cell_type": "code",
   "execution_count": 16,
   "id": "180d023a",
   "metadata": {},
   "outputs": [],
   "source": [
    "def char_in_string(a_string, char_to_look_for):\n",
    "    for char in a_string:\n",
    "        if char == char_to_look_for:\n",
    "            return True\n",
    "    \n",
    "    return False"
   ]
  },
  {
   "cell_type": "code",
   "execution_count": 17,
   "id": "36e66a42",
   "metadata": {},
   "outputs": [
    {
     "data": {
      "text/plain": [
       "False"
      ]
     },
     "execution_count": 17,
     "metadata": {},
     "output_type": "execute_result"
    }
   ],
   "source": [
    "char_in_string(\"zain\", \"s\")"
   ]
  },
  {
   "cell_type": "code",
   "execution_count": 18,
   "id": "5008cd67",
   "metadata": {},
   "outputs": [
    {
     "data": {
      "text/plain": [
       "True"
      ]
     },
     "execution_count": 18,
     "metadata": {},
     "output_type": "execute_result"
    }
   ],
   "source": [
    "char_in_string(\"zain\", \"z\")"
   ]
  },
  {
   "cell_type": "markdown",
   "id": "6bb1288a",
   "metadata": {},
   "source": [
    "- Write a function insert_dashes that receives a string and inserts dashes every 3 characters."
   ]
  },
  {
   "cell_type": "code",
   "execution_count": 72,
   "id": "9aa22d57",
   "metadata": {},
   "outputs": [],
   "source": [
    "def insert_dashes(a_string):\n",
    "    dashed_string = ''\n",
    "    count = 1\n",
    "    for char in a_string:\n",
    "        dashed_string += char\n",
    "        \n",
    "        for i in range(1, len(a_string)):\n",
    "            if count == i*3:\n",
    "                dashed_string += '-'\n",
    "            \n",
    "        count += 1\n",
    "        \n",
    "    return dashed_string\n",
    "        "
   ]
  },
  {
   "cell_type": "code",
   "execution_count": 73,
   "id": "3442e347",
   "metadata": {},
   "outputs": [
    {
     "data": {
      "text/plain": [
       "'Pyt-hon- is- Aw-eso-me'"
      ]
     },
     "execution_count": 73,
     "metadata": {},
     "output_type": "execute_result"
    }
   ],
   "source": [
    "insert_dashes('Python is Awesome')"
   ]
  },
  {
   "cell_type": "markdown",
   "id": "75b1a2c1",
   "metadata": {},
   "source": [
    "- Complete the function neutralize_uppercase so that it returns stringy the same as it was received if there are no capital letters in it or an empty string \"\" if there were. You need to use a while loop to go through each letter of the string one at a time to check for uppercase letters."
   ]
  },
  {
   "cell_type": "code",
   "execution_count": 77,
   "id": "43aecba2",
   "metadata": {},
   "outputs": [],
   "source": [
    "def neutraliz_uppercase(a_string):\n",
    "    if a_string.islower():\n",
    "        return a_string\n",
    "    return ''"
   ]
  },
  {
   "cell_type": "code",
   "execution_count": 79,
   "id": "809ffc94",
   "metadata": {},
   "outputs": [
    {
     "data": {
      "text/plain": [
       "''"
      ]
     },
     "execution_count": 79,
     "metadata": {},
     "output_type": "execute_result"
    }
   ],
   "source": [
    "neutraliz_uppercase(\"zaIn\")"
   ]
  },
  {
   "cell_type": "markdown",
   "id": "74c79de1",
   "metadata": {},
   "source": [
    "- Today we're going to write a function to convert what a pirate would say into the way a dog would say it. Roo roo roo roo!Complete the function convert_pirate_to_dog with a for loop so that it goes through each letter of pirate_saying and then adds 'oo' after each letter. Remember that strings are immutable, so you will have to create a new string for the result of how a dog would sound."
   ]
  },
  {
   "cell_type": "code",
   "execution_count": 81,
   "id": "7531100b",
   "metadata": {},
   "outputs": [
    {
     "data": {
      "text/plain": [
       "'aoorooroorooroo'"
      ]
     },
     "execution_count": 81,
     "metadata": {},
     "output_type": "execute_result"
    }
   ],
   "source": [
    "def convert_pirate_to_dog(pirate_saying):\n",
    "    p_say = ''\n",
    "    for char in pirate_saying:\n",
    "        p_say += char\n",
    "        p_say += 'oo'\n",
    "        \n",
    "    return p_say\n",
    "\n",
    "convert_pirate_to_dog('arrrr')"
   ]
  },
  {
   "cell_type": "markdown",
   "id": "97156df7",
   "metadata": {},
   "source": [
    "- Write a function chars_in_even_positions that receives a string and returns all the characters in even positions."
   ]
  },
  {
   "cell_type": "code",
   "execution_count": 104,
   "id": "53c337a9",
   "metadata": {},
   "outputs": [],
   "source": [
    "def chars_in_even_position(a_string):\n",
    "    return a_string[1::2]\n",
    "        "
   ]
  },
  {
   "cell_type": "code",
   "execution_count": 105,
   "id": "2cacbd5f",
   "metadata": {},
   "outputs": [
    {
     "data": {
      "text/plain": [
       "'yhn'"
      ]
     },
     "execution_count": 105,
     "metadata": {},
     "output_type": "execute_result"
    }
   ],
   "source": [
    "chars_in_even_position(\"python\")"
   ]
  },
  {
   "cell_type": "markdown",
   "id": "70b868db",
   "metadata": {},
   "source": [
    "- Write a function max_char that receives a string and returns the \"maximum\" character in it. Max is defined as a < b < ... < z ignoring uppercase chars (all strings provided will be lowercase). Important: If the string received is empty, the result should be an empty string."
   ]
  },
  {
   "cell_type": "code",
   "execution_count": 113,
   "id": "dc60ab7d",
   "metadata": {},
   "outputs": [],
   "source": [
    "def max_char(a_string):\n",
    "    if a_string == '':\n",
    "        return ''\n",
    "    \n",
    "    weighted_char = ''\n",
    "    for char in a_string:\n",
    "        if char > weighted_char:\n",
    "            weighted_char = char\n",
    "            \n",
    "    return weighted_char"
   ]
  },
  {
   "cell_type": "code",
   "execution_count": 115,
   "id": "f9ea7268",
   "metadata": {},
   "outputs": [
    {
     "data": {
      "text/plain": [
       "'t'"
      ]
     },
     "execution_count": 115,
     "metadata": {},
     "output_type": "execute_result"
    }
   ],
   "source": [
    "max_char('janbfthahdag')"
   ]
  },
  {
   "cell_type": "markdown",
   "id": "a29129fb",
   "metadata": {},
   "source": [
    "- Fix the Append Error, The function provided is broken. Your job is to figure out what's going on and fix it. Use the tests to guide you.\n",
    "\n",
    "    - def append_greeting_to_name(name):\n",
    "    \n",
    "            return \"Hello \" + name"
   ]
  },
  {
   "cell_type": "code",
   "execution_count": 118,
   "id": "ea7e0526",
   "metadata": {},
   "outputs": [],
   "source": [
    "def append_greeting_to_name(name):\n",
    "    # THIS IS BROKEN\n",
    "    # YOUR JOB IS TO FIX IT\n",
    "    # You can change this function as much as you want\n",
    "    return \"Hello \" + str(name)"
   ]
  },
  {
   "cell_type": "code",
   "execution_count": 120,
   "id": "c62e879f",
   "metadata": {},
   "outputs": [
    {
     "data": {
      "text/plain": [
       "'Hello 1'"
      ]
     },
     "execution_count": 120,
     "metadata": {},
     "output_type": "execute_result"
    }
   ],
   "source": [
    "append_greeting_to_name('1')"
   ]
  },
  {
   "cell_type": "markdown",
   "id": "d2688f86",
   "metadata": {},
   "source": [
    "- Fix the Date Format,The function provided is broken. Your job is to figure out what's going on and fix it. Use the tests to guide you. "
   ]
  },
  {
   "cell_type": "code",
   "execution_count": 121,
   "id": "51cdce7f",
   "metadata": {},
   "outputs": [],
   "source": [
    "def format_date(year, month, day):\n",
    "    # THIS IS BROKEN\n",
    "    # YOUR JOB IS TO FIX IT\n",
    "    # You can change this function as much as you want\n",
    "    return \"Today is {}-{}-{}\".format(year, month, day)\n"
   ]
  },
  {
   "cell_type": "code",
   "execution_count": 129,
   "id": "a5c49e80",
   "metadata": {},
   "outputs": [
    {
     "data": {
      "text/plain": [
       "'Today is 2022-2-22'"
      ]
     },
     "execution_count": 129,
     "metadata": {},
     "output_type": "execute_result"
    }
   ],
   "source": [
    "format_date(2022, 2, 22)"
   ]
  },
  {
   "cell_type": "code",
   "execution_count": null,
   "id": "9aefaa88",
   "metadata": {},
   "outputs": [],
   "source": []
  }
 ],
 "metadata": {
  "kernelspec": {
   "display_name": "Python 3",
   "language": "python",
   "name": "python3"
  },
  "language_info": {
   "codemirror_mode": {
    "name": "ipython",
    "version": 3
   },
   "file_extension": ".py",
   "mimetype": "text/x-python",
   "name": "python",
   "nbconvert_exporter": "python",
   "pygments_lexer": "ipython3",
   "version": "3.8.8"
  }
 },
 "nbformat": 4,
 "nbformat_minor": 5
}
