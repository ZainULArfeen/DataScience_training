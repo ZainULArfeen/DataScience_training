{
 "cells": [
  {
   "cell_type": "markdown",
   "id": "9d8286c1",
   "metadata": {},
   "source": [
    "#### Write a function build_user_as_dict that receives three parameters (name, email, age) and returns a dictionary:"
   ]
  },
  {
   "cell_type": "code",
   "execution_count": 1,
   "id": "238b7955",
   "metadata": {},
   "outputs": [],
   "source": [
    "def build_user_as_dict(name, email, age):\n",
    "    user_info = {\n",
    "        \"name\" : name,\n",
    "        \"age\" : age,\n",
    "        \"email\" : email\n",
    "    }\n",
    "    return user_info"
   ]
  },
  {
   "cell_type": "code",
   "execution_count": 2,
   "id": "3bee09ae",
   "metadata": {},
   "outputs": [
    {
     "data": {
      "text/plain": [
       "{'name': 'zain', 'age': 24, 'email': 'zain@zain.com'}"
      ]
     },
     "execution_count": 2,
     "metadata": {},
     "output_type": "execute_result"
    }
   ],
   "source": [
    "build_user_as_dict(\"zain\", \"zain@zain.com\", 24)"
   ]
  },
  {
   "cell_type": "code",
   "execution_count": 3,
   "id": "e7d3bc7f",
   "metadata": {},
   "outputs": [],
   "source": [
    "assert build_user_as_dict(\"zain\", \"zain@zain.com\", 24) == {\n",
    "    'name': 'zain',\n",
    "    'age': 24,\n",
    "    'email': \"zain@zain.com\"\n",
    "}"
   ]
  },
  {
   "cell_type": "markdown",
   "id": "f48d8adc",
   "metadata": {},
   "source": [
    "#### The function transform_user_list_to_dict receives a list with the user information and transforms it into a dictionary"
   ]
  },
  {
   "cell_type": "code",
   "execution_count": 4,
   "id": "fe2753b1",
   "metadata": {},
   "outputs": [],
   "source": [
    "def transform_user_list_to_dict(userlist):\n",
    "    user_dict = {\n",
    "        \"name\" : userlist[0],\n",
    "        \"email\" : userlist[1],\n",
    "        \"age\" : userlist[2]\n",
    "    }\n",
    "    return user_dict"
   ]
  },
  {
   "cell_type": "code",
   "execution_count": 5,
   "id": "c51b6ab4",
   "metadata": {},
   "outputs": [
    {
     "data": {
      "text/plain": [
       "{'name': 'zain', 'email': 'zain@zain.com', 'age': 24}"
      ]
     },
     "execution_count": 5,
     "metadata": {},
     "output_type": "execute_result"
    }
   ],
   "source": [
    "transform_user_list_to_dict([\"zain\", \"zain@zain.com\", 24])"
   ]
  },
  {
   "cell_type": "code",
   "execution_count": 6,
   "id": "6d5bf97c",
   "metadata": {},
   "outputs": [],
   "source": [
    "l1 = ['John', 'john@gmail.com', 31]\n",
    "\n",
    "assert transform_user_list_to_dict(l1) == {\n",
    "    'name': 'John',\n",
    "    'email': 'john@gmail.com',\n",
    "    'age': 31\n",
    "}"
   ]
  },
  {
   "cell_type": "markdown",
   "id": "0457a8cb",
   "metadata": {},
   "source": [
    "#### combine multiple dictionaries in a list. If we have 2 users in the form of lists:"
   ]
  },
  {
   "cell_type": "code",
   "execution_count": 7,
   "id": "443c4f58",
   "metadata": {},
   "outputs": [],
   "source": [
    "def combine_multiple_users_to_dict(userslist):\n",
    "    users = []\n",
    "    for i in range(len(userslist)):\n",
    "        user_dict = {\n",
    "            \"name\" : userslist[i][0],\n",
    "            \"email\" : userslist[i][1],\n",
    "            \"age\" : userslist[i][2]\n",
    "        }\n",
    "        users.append(user_dict)\n",
    "        \n",
    "    return users"
   ]
  },
  {
   "cell_type": "code",
   "execution_count": 8,
   "id": "5b2ed438",
   "metadata": {},
   "outputs": [
    {
     "data": {
      "text/plain": [
       "[{'name': 'John', 'email': 'john@gmail.com', 'age': 31},\n",
       " {'name': 'Mary', 'email': 'mary@hotmail.com', 'age': 28}]"
      ]
     },
     "execution_count": 8,
     "metadata": {},
     "output_type": "execute_result"
    }
   ],
   "source": [
    "users = [\n",
    "    ['John', 'john@gmail.com', 31],\n",
    "    ['Mary', 'mary@hotmail.com', 28]\n",
    "]\n",
    "combine_multiple_users_to_dict(users)"
   ]
  },
  {
   "cell_type": "code",
   "execution_count": 9,
   "id": "242abd79",
   "metadata": {},
   "outputs": [
    {
     "data": {
      "text/plain": [
       "[{'name': 'John', 'email': 'john@gmail.com', 'age': 31},\n",
       " {'name': 'Mary', 'email': 'mary@hotmail.com', 'age': 28},\n",
       " {'name': 'Rose', 'email': 'rose@yahoo.com', 'age': 30}]"
      ]
     },
     "execution_count": 9,
     "metadata": {},
     "output_type": "execute_result"
    }
   ],
   "source": [
    "users = [\n",
    "    ['John', 'john@gmail.com', 31],\n",
    "    ['Mary', 'mary@hotmail.com', 28],\n",
    "    ['Rose', 'rose@yahoo.com', 30]\n",
    "]\n",
    "\n",
    "users_as_dict = combine_multiple_users_to_dict(users)\n",
    "users_as_dict"
   ]
  },
  {
   "cell_type": "code",
   "execution_count": 10,
   "id": "524db306",
   "metadata": {},
   "outputs": [],
   "source": [
    "assert combine_multiple_users_to_dict(users) == [{\n",
    "    'name': 'John',\n",
    "    'email': 'john@gmail.com',\n",
    "    'age': 31\n",
    "}, {\n",
    "    'name': 'Mary',\n",
    "    'email': 'mary@hotmail.com',\n",
    "    'age': 28\n",
    "}, {\n",
    "    'name': 'Rose',\n",
    "    'email': 'rose@yahoo.com',\n",
    "    'age': 30\n",
    "}]"
   ]
  },
  {
   "cell_type": "code",
   "execution_count": null,
   "id": "8f11a251",
   "metadata": {},
   "outputs": [],
   "source": []
  }
 ],
 "metadata": {
  "kernelspec": {
   "display_name": "Python 3",
   "language": "python",
   "name": "python3"
  },
  "language_info": {
   "codemirror_mode": {
    "name": "ipython",
    "version": 3
   },
   "file_extension": ".py",
   "mimetype": "text/x-python",
   "name": "python",
   "nbconvert_exporter": "python",
   "pygments_lexer": "ipython3",
   "version": "3.8.8"
  }
 },
 "nbformat": 4,
 "nbformat_minor": 5
}
